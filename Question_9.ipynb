{
  "nbformat": 4,
  "nbformat_minor": 0,
  "metadata": {
    "colab": {
      "provenance": []
    },
    "kernelspec": {
      "name": "python3",
      "display_name": "Python 3"
    },
    "language_info": {
      "name": "python"
    }
  },
  "cells": [
    {
      "cell_type": "code",
      "source": [
        "# Redefining the document vectors for this new scenario\n",
        "documents = {\n",
        "    \"A1\": [1, 0, 0, 1, 1],\n",
        "    \"A2\": [0, 1, 1, 1, 1],\n",
        "    \"A3\": [1, 1, 1, 0, 0],\n",
        "    \"A4\": [0, 0, 1, 1, 1],\n",
        "    \"A5\": [1, 0, 0, 1, 0],\n",
        "    \"A6\": [0, 0, 0, 1, 1],\n",
        "    \"A7\": [0, 1, 0, 1, 1],\n",
        "    \"A8\": [0, 1, 1, 0, 0],\n",
        "    \"A9\": [1, 1, 0, 0, 1]\n",
        "}\n",
        "\n",
        "# a) Boolean Query Matching for \"IOE and Edge\"\n",
        "ioe_index = 1  # Index for IoE\n",
        "edge_index = 2  # Index for Edge\n",
        "\n",
        "# Retrieving documents for \"IOE and Edge\"\n",
        "matching_documents_ioe_edge = [doc for doc, vec in documents.items() if vec[ioe_index] == 1 and vec[edge_index] == 1]\n",
        "\n",
        "# b) Vector Space Matching for \"Software, IoE, Edge\"\n",
        "query_vector_software_ioe_edge = np.array([1, 1, 1, 0, 0])\n",
        "\n",
        "# Calculating similarity for each document\n",
        "similarity_scores_software_ioe_edge = {doc: cosine_similarity(query_vector_software_ioe_edge, np.array(vec)) for doc, vec in documents.items()}\n",
        "\n",
        "# Setting a threshold for similarity\n",
        "threshold = 0.5\n",
        "relevant_documents_software_ioe_edge = [doc for doc, score in similarity_scores_software_ioe_edge.items() if score >= threshold]\n",
        "\n",
        "# c) Boolean or Vector Space Matching for \"Edge and Network\"\n",
        "network_index = 3  # Index for Network\n",
        "\n",
        "# Retrieving documents for \"Edge and Network\"\n",
        "matching_documents_edge_network = [doc for doc, vec in documents.items() if vec[edge_index] == 1 and vec[network_index] == 1]\n",
        "\n",
        "matching_documents_ioe_edge, relevant_documents_software_ioe_edge, matching_documents_edge_network, similarity_scores_software_ioe_edge"
      ],
      "metadata": {
        "colab": {
          "base_uri": "https://localhost:8080/"
        },
        "id": "yt0sHxnVvgMV",
        "outputId": "eab4278c-c9c0-47bd-9196-55cf6d0c1e46"
      },
      "execution_count": 5,
      "outputs": [
        {
          "output_type": "execute_result",
          "data": {
            "text/plain": [
              "(['A2', 'A3', 'A8'],\n",
              " ['A2', 'A3', 'A8', 'A9'],\n",
              " ['A2', 'A4'],\n",
              " {'A1': 0.33333333333333337,\n",
              "  'A2': 0.5773502691896258,\n",
              "  'A3': 1.0000000000000002,\n",
              "  'A4': 0.33333333333333337,\n",
              "  'A5': 0.40824829046386296,\n",
              "  'A6': 0.0,\n",
              "  'A7': 0.33333333333333337,\n",
              "  'A8': 0.8164965809277259,\n",
              "  'A9': 0.6666666666666667})"
            ]
          },
          "metadata": {},
          "execution_count": 5
        }
      ]
    }
  ]
}